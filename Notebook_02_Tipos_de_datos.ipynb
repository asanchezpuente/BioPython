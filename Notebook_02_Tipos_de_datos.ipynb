{
 "cells": [
  {
   "cell_type": "markdown",
   "id": "fb9e25ea",
   "metadata": {},
   "source": [
    "# Notebook 2: Tipos de Datos\n",
    "\n",
    "Python puede trabajar con muchos tipos de datos diferentes. Sin embargo debemos conocer unos pocos tipos de datos básicos: tipo _int_ (números enteros), _float_ (números reales), _string_ (cadenas de caracteres) y _bool_ (valores lógicos)."
   ]
  },
  {
   "cell_type": "code",
   "execution_count": null,
   "id": "e84f5fe2",
   "metadata": {},
   "outputs": [],
   "source": [
    "# Los números enteros (int) se escriben como tal, sin separador decimal\n",
    "\n",
    "print(122, type(122))\n",
    "\n",
    "# Los números reales (float) se escriben con separador decimal, o usando notación científica\n",
    "\n",
    "print(122.0, type(122.0))\n",
    "print(1.22e2, type(1.22e2))\n",
    "\n",
    "# Las cadenas de caracteres se escriben entre comillas simples o dobles\n",
    "\n",
    "print('Ciento veintidós', type('Ciento veintidós'))\n",
    "print(\"Ciento veintidós\", type(\"Ciento veintidós\"))\n",
    "print(\"122\", type(\"122\"))\n",
    "\n",
    "# Hay dos valores lógicos, True y False\n",
    "\n",
    "print(True, type(True))\n",
    "print(False, type(False))"
   ]
  },
  {
   "cell_type": "markdown",
   "id": "3b0b3022",
   "metadata": {},
   "source": [
    "---\n",
    "\n",
    "## 🔷 Operaciones con números enteros (int)\n",
    "\n",
    "Los números enteros se pueden sumar, restar y multiplicar con las operaciones +,-,* y podemos agrupar las operaciones utilizando los paréntesis ()."
   ]
  },
  {
   "cell_type": "code",
   "execution_count": null,
   "id": "25e527a1",
   "metadata": {},
   "outputs": [],
   "source": [
    "print(2 + 2)\n",
    "print(4 - 7)\n",
    "print(8 * 7)\n",
    "print(2 + (5-2) * 3)"
   ]
  },
  {
   "cell_type": "markdown",
   "id": "809f04a3",
   "metadata": {},
   "source": [
    "---\n",
    "\n",
    "La división utiliza el símbolo barra / y siempre devuelve un número real (float), aunque el resultado sea entero. Si queremos un resultado entero podemos usar la división entera con dos barras // y para cálcular el resto el símbolo %. "
   ]
  },
  {
   "cell_type": "code",
   "execution_count": null,
   "id": "54f30945",
   "metadata": {},
   "outputs": [],
   "source": [
    "print(13 / 4)\n",
    "print(13 // 4)\n",
    "print(13 % 4)"
   ]
  },
  {
   "cell_type": "markdown",
   "id": "e9b42142",
   "metadata": {},
   "source": [
    "---\n",
    "\n",
    "También podemos elevar un número entero a un exponente usando dos asteriscos."
   ]
  },
  {
   "cell_type": "code",
   "execution_count": null,
   "id": "38d2144a",
   "metadata": {},
   "outputs": [],
   "source": [
    "print(2**3)"
   ]
  },
  {
   "cell_type": "markdown",
   "id": "f501c3bc",
   "metadata": {},
   "source": [
    "---\n",
    "\n",
    "Para finalizar, podemos comparar dos números enteros usando los siguientes operadores > (mayor que), >= (mayor o igual que), < (menor que), <= (menor o igual que), == (igual que), != (no es igual que). Al usar uno de estos operadores, nos devolverá un valor booleano, True o False."
   ]
  },
  {
   "cell_type": "code",
   "execution_count": null,
   "id": "f385179f",
   "metadata": {},
   "outputs": [],
   "source": [
    "print(5 > 2)\n",
    "print(5 <= 2)\n",
    "print(2+2 == 2*2)"
   ]
  },
  {
   "cell_type": "markdown",
   "id": "472250f2",
   "metadata": {},
   "source": [
    "---\n",
    "\n",
    "## 🔴 Ejercicio\n",
    "\n",
    "Antonio tiene en un terrario 7 arañas, 3 ciempiés, y 2 cucarachas. Cada araña tiene 8 patas, cada ciempiés tiene 100 patas y cada cucaracha tieneseis patas. A una de las cucarachas le falta una pata. Escribe un código en la siguiente celda que calcule el número de patas que hay en el terrario."
   ]
  },
  {
   "cell_type": "code",
   "execution_count": null,
   "id": "967abe58",
   "metadata": {},
   "outputs": [],
   "source": [
    "#Escribe tu código en esta celda"
   ]
  },
  {
   "cell_type": "markdown",
   "id": "e7942575",
   "metadata": {},
   "source": [
    "---\n",
    "\n",
    "## 🔷 Operaciones con números reales (float)\n",
    "\n",
    "Son las mismas que con números enteros. Si combinas en una operación números enteros y números reales, el resultado será un número real."
   ]
  },
  {
   "cell_type": "code",
   "execution_count": null,
   "id": "aae82f4a",
   "metadata": {},
   "outputs": [],
   "source": [
    "print(1 + 3.4e-2 + 0.04**0.5)"
   ]
  },
  {
   "cell_type": "markdown",
   "id": "bf8996c4",
   "metadata": {},
   "source": [
    "---\n",
    "\n",
    "## 🔷 Operaciones con cadenas de caracteres (string)\n",
    "\n",
    "Las cadenas de caracteres se pueden sumar para concatenar, y se pueden multiplicar por un entero para repetir varias veces la misma cadena.\n"
   ]
  },
  {
   "cell_type": "code",
   "execution_count": null,
   "id": "5a21f5b3",
   "metadata": {},
   "outputs": [],
   "source": [
    "print(\"Hola\"+\"mundo\")\n",
    "print(3*\"Eco\")\n"
   ]
  },
  {
   "cell_type": "markdown",
   "id": "7a6fcbad",
   "metadata": {},
   "source": [
    "---\n",
    "\n",
    "## ⚠️ No se pueden sumar cadenas de caracteres y números\n",
    "\n",
    "Aunque la cadena de caracteres represente un número"
   ]
  },
  {
   "cell_type": "code",
   "execution_count": null,
   "id": "23253c25",
   "metadata": {},
   "outputs": [],
   "source": [
    "print(\"108\"+37)"
   ]
  },
  {
   "cell_type": "markdown",
   "id": "32750fd0",
   "metadata": {},
   "source": [
    "---\n",
    "\n",
    "## 🔷 Operaciones lógicas (bool)\n",
    "\n",
    "Podemos usar las operaciones _and_, _or_, y _not_"
   ]
  },
  {
   "cell_type": "code",
   "execution_count": null,
   "id": "bea750bf",
   "metadata": {},
   "outputs": [],
   "source": [
    "# Ejemplos usando AND\n",
    "print(True and True)\n",
    "print(True and False)\n",
    "print(False and False)\n"
   ]
  },
  {
   "cell_type": "code",
   "execution_count": null,
   "id": "0f0de6b4",
   "metadata": {},
   "outputs": [],
   "source": [
    "# Ejemplos usando OR\n",
    "print(True or True)\n",
    "print(True or False)\n",
    "print(False or False)"
   ]
  },
  {
   "cell_type": "code",
   "execution_count": null,
   "id": "83caffee",
   "metadata": {},
   "outputs": [],
   "source": [
    "# Ejemplos usando NOT\n",
    "print(not True)\n",
    "print(not False)"
   ]
  },
  {
   "cell_type": "code",
   "execution_count": null,
   "id": "b3aa8ca1",
   "metadata": {},
   "outputs": [],
   "source": []
  }
 ],
 "metadata": {
  "kernelspec": {
   "display_name": "Python 3 (ipykernel)",
   "language": "python",
   "name": "python3"
  },
  "language_info": {
   "codemirror_mode": {
    "name": "ipython",
    "version": 3
   },
   "file_extension": ".py",
   "mimetype": "text/x-python",
   "name": "python",
   "nbconvert_exporter": "python",
   "pygments_lexer": "ipython3",
   "version": "3.9.12"
  }
 },
 "nbformat": 4,
 "nbformat_minor": 5
}

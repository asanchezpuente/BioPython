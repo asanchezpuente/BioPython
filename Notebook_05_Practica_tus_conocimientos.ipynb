{
 "cells": [
  {
   "cell_type": "markdown",
   "id": "36d0ed4e",
   "metadata": {},
   "source": [
    "# Notebook 5: Practica tus conocimientos\n",
    "\n"
   ]
  },
  {
   "cell_type": "markdown",
   "id": "76e0612d",
   "metadata": {},
   "source": [
    "---\n",
    "\n",
    "## 🔴 Ejercicio\n",
    "Escribe un código que imprima por pantalla \"Hola Python\" y además incluye un comentario en la celda de código."
   ]
  },
  {
   "cell_type": "code",
   "execution_count": null,
   "id": "583444d7",
   "metadata": {},
   "outputs": [],
   "source": []
  },
  {
   "cell_type": "markdown",
   "id": "843a0166",
   "metadata": {},
   "source": [
    "---\n",
    "\n",
    "## 🔴 Ejercicio\n",
    "Imprime por pantalla los siguientes número reales usando notación científica 2,  0.00059,  3230"
   ]
  },
  {
   "cell_type": "code",
   "execution_count": null,
   "id": "b99f69d1",
   "metadata": {},
   "outputs": [],
   "source": []
  },
  {
   "cell_type": "markdown",
   "id": "e5f8c221",
   "metadata": {},
   "source": [
    "---\n",
    "\n",
    "## 🔴 Ejercicio\n",
    "\n",
    "Antonio tiene en un terrario 7 arañas, 3 ciempiés, y 2 cucarachas. Cada araña tiene 8 patas, cada ciempiés tiene 100 patas y cada cucaracha tieneseis patas. A una de las cucarachas le falta una pata. Escribe un código en la siguiente celda que calcule el número de patas que hay en el terrario."
   ]
  },
  {
   "cell_type": "code",
   "execution_count": null,
   "id": "00059fe3",
   "metadata": {},
   "outputs": [],
   "source": []
  },
  {
   "cell_type": "markdown",
   "id": "12c7bc7a",
   "metadata": {},
   "source": [
    "---\n",
    "\n",
    "## 🔴 Ejercicio\n",
    "\n",
    "Imprime por pantalla una cadena de caracteres que contenga 25 veces la palabra \"eco\" (usando las operaciones con cadenas)"
   ]
  },
  {
   "cell_type": "code",
   "execution_count": null,
   "id": "68ca1ffb",
   "metadata": {},
   "outputs": [],
   "source": []
  },
  {
   "cell_type": "markdown",
   "id": "300361d3",
   "metadata": {},
   "source": [
    "---\n",
    "\n",
    "## 🔴 Ejercicio\n",
    "\n",
    "Crea 3 variables. Asígnale a la primera el valor 3. A la segunda, el cuadrado de la primera. A la tercera, el doble de la primera menos la mitad de la segunda. Imprímelas por pantalla."
   ]
  },
  {
   "cell_type": "code",
   "execution_count": null,
   "id": "41810467",
   "metadata": {},
   "outputs": [],
   "source": []
  },
  {
   "cell_type": "markdown",
   "id": "6d6ddee0",
   "metadata": {},
   "source": [
    "---\n",
    "\n",
    "## 🔴 Ejercicio\n",
    "\n",
    "He corrido una maratón de 42.195 kilómetros en 3:54:25 y quiero conocer mi velocidad media en m/s.\n",
    "\n",
    "Crea 5 variables \"horas\", \"minutos\", \"segundos\", \"tiempo_total\", y \"distancia_total\". Asigna los valores de mi tiempo a las variables \"horas\", \"minutos\" y \"segundos\". Asigna el tiempo que he tardado en segundos a \"tiempo_total\" utilizando las variables anteriores. Asigna la distancia en metros a \"distancia_total\". Imprime por pantalla la división de \"distancia_total\" entre \"tiempo_total\""
   ]
  },
  {
   "cell_type": "code",
   "execution_count": null,
   "id": "d82752eb",
   "metadata": {},
   "outputs": [],
   "source": []
  },
  {
   "cell_type": "markdown",
   "id": "6449ec47",
   "metadata": {},
   "source": [
    "---\n",
    "\n",
    "## 🔴 Ejercicio\n",
    "\n",
    "Imprime, utilizando una única cadena de caracteres, los números del 1 al 10, separados por tabuladores y en dos líneas (pista: utiliza el carácter de escape)"
   ]
  },
  {
   "cell_type": "code",
   "execution_count": null,
   "id": "f1117dc3",
   "metadata": {},
   "outputs": [],
   "source": []
  },
  {
   "cell_type": "markdown",
   "id": "f07a9cf3",
   "metadata": {},
   "source": [
    "---\n",
    "\n",
    "## 🔴 Ejercicio\n",
    "\n",
    "Crea un código que tome una cadena cualquiera (crea tú una para probar) e imprima por pantalla la longitud de la cadena y la primera mitad de la cadena."
   ]
  },
  {
   "cell_type": "code",
   "execution_count": null,
   "id": "8a65655e",
   "metadata": {},
   "outputs": [],
   "source": []
  },
  {
   "cell_type": "markdown",
   "id": "a894a083",
   "metadata": {},
   "source": [
    "---\n",
    "\n",
    "## 🔴 Ejercicio\n",
    "\n",
    "Escribe en tres variables tu nombre, tu edad y tu color favorito. Usa una cadena formateada (f-string) para mostrar por pantalla esta información."
   ]
  },
  {
   "cell_type": "code",
   "execution_count": null,
   "id": "284f2d33",
   "metadata": {},
   "outputs": [],
   "source": []
  },
  {
   "cell_type": "markdown",
   "id": "88728372",
   "metadata": {},
   "source": [
    "---\n",
    "\n",
    "## 🔴 Ejercicio\n",
    "\n",
    "Cuenta todas las aparciones de la subcadena \"verde\" en la estrofa de Federico García Lorca, sin importar si son mayúsculas o minúsculas, usando los métodos de cadenas de caracteres"
   ]
  },
  {
   "cell_type": "code",
   "execution_count": 54,
   "id": "a91a31bd",
   "metadata": {},
   "outputs": [],
   "source": [
    "estrofa = \"Verde que te quiero verde\\nverde viento verdes ramas\\nel barco sobre la mar\\nel caballo en la montaña.\"\n",
    "\n",
    "#Escribe tu código a partir de aquí:"
   ]
  },
  {
   "cell_type": "markdown",
   "id": "6a75117f",
   "metadata": {},
   "source": [
    "---\n",
    "\n",
    "## 🔴 Ejercicio\n",
    "\n",
    "Utiliza el método .split() para separar:\n",
    "- El usuario y el dominio de la siguiente cuenta de email: asanchezpuente@usal.es\n",
    "- Los diferentes directorios y el fichero de la siguiente ruta de Linux: /usr/local/lib/python3.9/dist-packages/jupyter.py\n",
    "- Los diferentes directorios y el fichero de la siguiente ruta de Windows: C:\\\\Usuarios\\\\User\\\\anaconda3\\\\condabin\\\\conda.bat"
   ]
  },
  {
   "cell_type": "code",
   "execution_count": null,
   "id": "098004c9",
   "metadata": {},
   "outputs": [],
   "source": []
  }
 ],
 "metadata": {
  "kernelspec": {
   "display_name": "Python 3 (ipykernel)",
   "language": "python",
   "name": "python3"
  },
  "language_info": {
   "codemirror_mode": {
    "name": "ipython",
    "version": 3
   },
   "file_extension": ".py",
   "mimetype": "text/x-python",
   "name": "python",
   "nbconvert_exporter": "python",
   "pygments_lexer": "ipython3",
   "version": "3.9.12"
  }
 },
 "nbformat": 4,
 "nbformat_minor": 5
}

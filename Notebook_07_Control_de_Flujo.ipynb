{
 "cells": [
  {
   "cell_type": "markdown",
   "id": "d3a01417",
   "metadata": {},
   "source": [
    "# Notebook 7: Control de Flujo\n",
    "\n",
    "Los programas necesitan controlar qué instrucciones se van a ejecutar de su código en función de diferentes condiciones. Para eso se usan una serie de expresiones como son las sentencias _if_, _for_ o _while"
   ]
  },
  {
   "cell_type": "markdown",
   "id": "decd5df9",
   "metadata": {},
   "source": [
    "---\n",
    "\n",
    "##  🔷 Sentencia _if_\n",
    "Permite evaluar una condición, normalmente en una variable, y ejecutar distintas partes del código dependiendo del resultado.\n",
    "\n",
    "- Para empezar escribimos la palabra _if_ y la condición que queremos y dos puntos\n",
    "- En la siguiente línea empezamos a escribir el código que queremos que se ejecute si se cumple la condición. Este código ha de estar __indentado__, es decir, debemos dejar un bloque de espacios en blanco antes de empezar a escribir. Si pulsas tabulador, automáticamente se añadirán 4 espacios en blanco.\n",
    "- Después podemos escribir la palabra _elif_ con una condición adicional que queramos comprobar en caso que la primera no se cumpla, y a continuación el código que queremos que se ejecute.\n",
    "- Podemos escribir tantos bloques _elif_ como deseemos\n",
    "- Para finalizar, podemos escribir _else_ y dos puntos y a continuación un bloque de código indentado que se ejecutará si todas las condiciones anteriores han fallado.\n",
    "\n",
    "Puede haber cero o más partes _elif_, y la parte _else_ es opcional."
   ]
  },
  {
   "cell_type": "code",
   "execution_count": null,
   "id": "6394aa54",
   "metadata": {},
   "outputs": [],
   "source": [
    "# Para ilustrar como funciona la sentencia if, vamos a generar un número aleatorio entre 0 y 9. \n",
    "# Prueba a ejecutar varias veces esta celda de código\n",
    "import random\n",
    "x = random.randint(0,9)\n",
    "\n",
    "if x < 3:\n",
    "    print(f\"{x} es menor que 3\")\n",
    "elif x >= 6:\n",
    "    print(f\"{x} es mayor o igual que 6\")\n",
    "elif x == 5:\n",
    "    print(\"Me ha tocado el 5\")\n",
    "    print(\"¡Qué suerte!\")\n",
    "else:\n",
    "    print(f\"{x} no es ni menor que 3, ni mayor o igual que 6\")"
   ]
  },
  {
   "cell_type": "markdown",
   "id": "4349965c",
   "metadata": {},
   "source": [
    "---\n",
    "\n",
    "## 🔴 Ejercicio\n",
    "Dado un número del 0 al 100 al azar, comprueba si es múltiplo de 3 e imprime un mensaje por pantalla"
   ]
  },
  {
   "cell_type": "code",
   "execution_count": null,
   "id": "023403d1",
   "metadata": {},
   "outputs": [],
   "source": []
  },
  {
   "cell_type": "markdown",
   "id": "76f917ef",
   "metadata": {},
   "source": [
    "---\n",
    "\n",
    "##  🔷 Bucle _for_\n",
    "\n",
    "Permite repetir un bloque de código tantas veces como elementos tenga una lista, asignando cada vez a una variable el valor del elemento de la lista correspondiente.\n",
    "\n",
    "- Para empezar escribimos la palabra _for_ y el nombre de la variable que vamos a usar.\n",
    "- Después escribimos la palabra _in_, la lista, y dos puntos.\n",
    "- En la siguiente línea escribimos un bloque de código indentado con el código que se va a repetir."
   ]
  },
  {
   "cell_type": "code",
   "execution_count": null,
   "id": "fa33cbd4",
   "metadata": {},
   "outputs": [],
   "source": [
    "for persona in [\"Don Pepito\", \"Don José\", \"Doña María\", \"Don Manuel\"]:\n",
    "    print(f\"¡Hola {persona}!\")\n",
    "\n",
    "# El código no indentado no pertenece al bucle for\n",
    "print(\"¿Qué tal están?\")"
   ]
  },
  {
   "cell_type": "markdown",
   "id": "cbed0494",
   "metadata": {},
   "source": [
    "---\n",
    "\n",
    "##  🔷 Función _range_\n",
    "\n",
    "Es una función que genera progresiones aritméticas, y que se usa mucho junto a los bucles for.\n",
    "\n",
    "- range(n) genera los números desde el 0 (incluido) hasta el n (excluido)\n",
    "- range(a,b) genera los números desde el a (incluido) hasta el b (excluido)\n",
    "- range(a,b,k) genera los números desde el a (incluido) hasta el b (excluido) de k en k"
   ]
  },
  {
   "cell_type": "code",
   "execution_count": null,
   "id": "928617e3",
   "metadata": {},
   "outputs": [],
   "source": [
    "for i in range(3):\n",
    "    print(i)\n",
    "    \n",
    "print(\"\")\n",
    "    \n",
    "for i in range(2,6):\n",
    "    print(f\"{i} elefantes se balanceaban sobre la tela de una araña\")\n",
    "    \n",
    "print(\"\")\n",
    "    \n",
    "for i in range(3,18,3):\n",
    "    print(i, \"de tres en tres\")\n",
    "    \n",
    "print(\"\")\n",
    "    \n",
    "for i in range(10,0,-1):\n",
    "    print(\"Cuenta atrás\", i)"
   ]
  },
  {
   "cell_type": "markdown",
   "id": "2217de7e",
   "metadata": {},
   "source": [
    "---\n",
    "\n",
    "## 🔴 Ejercicio\n",
    "\n",
    "Recorre los números enteros del 0 al 100 con un bucle for, e imprime por pantalla los que sean múltiplos de 7."
   ]
  },
  {
   "cell_type": "code",
   "execution_count": null,
   "id": "041df1f3",
   "metadata": {},
   "outputs": [],
   "source": []
  },
  {
   "cell_type": "markdown",
   "id": "0394af35",
   "metadata": {},
   "source": [
    "---\n",
    "\n",
    "##  🔷 Bucle _While_\n",
    "\n",
    "Este es un bucle que repite un trozo de código mientras se cumpla una condición. Para ello:\n",
    "- Escribimos la palabra _while_ nuestra condición y dos puntos\n",
    "- En la siguiente línea escribimos un bloque de código indentado que se va a repetir mientras se cumpla la condición"
   ]
  },
  {
   "cell_type": "code",
   "execution_count": null,
   "id": "f73dafec",
   "metadata": {},
   "outputs": [],
   "source": [
    "# Vamos a escribir un trozo de código que imprima un número del 0 al 10 al azar hasta que saque un 5\n",
    "\n",
    "x = random.randint(0,9)\n",
    "\n",
    "while x!=5:\n",
    "    print(f\"Ha salido el {x}\")\n",
    "    x = random.randint(0,9)\n",
    "    \n",
    "print(f\"Por fin salió un {x}\")"
   ]
  },
  {
   "cell_type": "markdown",
   "id": "0f9f11df",
   "metadata": {},
   "source": [
    "---\n",
    "\n",
    "## 🔴 Ejercicio\n",
    "Programa la \"conjetura de Collatz\". Dado un número (que vamos a sacar al azar entre el 10 y el 100) y\n",
    "\n",
    "- Si es par, divídelo entre dos\n",
    "- Si es impar, multiplícalo por 3 y súmale 1\n",
    "- Si el resultado no es 1, repite el proceso\n",
    "\n",
    "Imprime la secuencia de números que vas obteniendo en este proceso"
   ]
  },
  {
   "cell_type": "code",
   "execution_count": null,
   "id": "882a06b3",
   "metadata": {},
   "outputs": [],
   "source": [
    "x = random.randint(10,100)\n",
    "\n",
    "# Escribe tu código a partir de aquí\n",
    "    "
   ]
  },
  {
   "cell_type": "markdown",
   "id": "31973243",
   "metadata": {},
   "source": [
    "---\n",
    "\n",
    "##  🔷 _break_ y _continue_\n",
    "Cuando estamos dentro de un bucle, **break** sirve para terminar la ejecución del bucle antes de tiempo. **continue** sirve para detener la ejecución de esta repetición del bucle, pero contínua con la siguiente. Ejemplos:"
   ]
  },
  {
   "cell_type": "code",
   "execution_count": null,
   "id": "f9266b53",
   "metadata": {},
   "outputs": [],
   "source": [
    "for i in range(10):\n",
    "    if(i==6):\n",
    "        break\n",
    "    print(i)\n",
    "    \n",
    "print(\"\")\n",
    "\n",
    "for i in range(10):\n",
    "    if(i==6):\n",
    "        continue\n",
    "    print(i)"
   ]
  },
  {
   "cell_type": "code",
   "execution_count": null,
   "id": "4f6e6e46",
   "metadata": {},
   "outputs": [],
   "source": []
  }
 ],
 "metadata": {
  "kernelspec": {
   "display_name": "Python 3 (ipykernel)",
   "language": "python",
   "name": "python3"
  },
  "language_info": {
   "codemirror_mode": {
    "name": "ipython",
    "version": 3
   },
   "file_extension": ".py",
   "mimetype": "text/x-python",
   "name": "python",
   "nbconvert_exporter": "python",
   "pygments_lexer": "ipython3",
   "version": "3.9.12"
  }
 },
 "nbformat": 4,
 "nbformat_minor": 5
}

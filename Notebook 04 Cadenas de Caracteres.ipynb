{
 "cells": [
  {
   "cell_type": "markdown",
   "id": "2e5f5a34",
   "metadata": {},
   "source": [
    "# Notebook 4: Más operaciones con cadenas de caracteres\n",
    "\n",
    "Como ya explicamos anteriormente, podemos definir variables de tipo cadena en Python de la siguiente manera:\n",
    "```python\n",
    "cadena1 = 'Esto es una cadena declarada con comillas simples'\n",
    "cadena2 = \"Esto es una cadena declarada con comillas dobles\"\n",
    "```"
   ]
  },
  {
   "cell_type": "markdown",
   "id": "5133e0bc",
   "metadata": {},
   "source": [
    "---\n",
    "\n",
    "##  🔷 Caracteres Especiales\n",
    "\n",
    "Una cadena de caracteres puede contener cualquier tipo de caracteres, incluidos caracteres especiales como las comillas. Para poder escribir estas cadenas en nuestro código, hace falta usar un carácter de escape, que en Python es la barra invertida \\. De este modo, cuando escribimos dentro de una cadena las siguientes combinaciones tenemos:\n",
    "- \\\\\" Comillas dobles\n",
    "- \\\\' Comillas simples\n",
    "- \\\\\\\\ Una barra invertida (y no dos)\n",
    "- \\t Un tabulador\n",
    "- \\n Un salto de línea\n",
    "\n",
    "Además, si hemos usado comillas dobles para definir nuestra cadena, podemos usar comillas simple en el interior sin problemas, y viceversa. Veamos un ejemplo:"
   ]
  },
  {
   "cell_type": "code",
   "execution_count": null,
   "id": "0a93278c",
   "metadata": {},
   "outputs": [],
   "source": [
    "print(\"Esto es la \\\"primera\\\" línea\\nEsto es la 'segunda' línea\\n\\t\\\\Esta línea comenzó con un tabulador y una barra\")"
   ]
  },
  {
   "cell_type": "markdown",
   "id": "7daf1329",
   "metadata": {},
   "source": [
    "---\n",
    "\n",
    "##  🔷 Longitud de una cadena\n",
    "\n",
    "La longitud de una cadena la podemos obtener con la función _len()_"
   ]
  },
  {
   "cell_type": "code",
   "execution_count": null,
   "id": "bd85b673",
   "metadata": {},
   "outputs": [],
   "source": [
    "mi_cadena = \"Tres tristes tigres comían trigo de un trigal.\"\n",
    "print(len(mi_cadena))"
   ]
  },
  {
   "cell_type": "markdown",
   "id": "e6afc805",
   "metadata": {},
   "source": [
    "---\n",
    "\n",
    "##  🔷 Accediendo a los caracteres de una cadena\n",
    "\n",
    "Podemos acceder a los caracteres (subcadenas de longitud 1) que componen una cadena de manera individual, mediante la notación de corchetes \"[]\", escribiendo dentro la posición que queremos extraer. La primera posición de la cadena es la 0, la segunda es la 1, etc.. Además, se pueden utilizar números negativos para referirnos a las últimas posiciones, así el -1 es el último carácter de la cadena, el -2 es el penúltimo, etc."
   ]
  },
  {
   "cell_type": "code",
   "execution_count": null,
   "id": "dd903b6d",
   "metadata": {},
   "outputs": [],
   "source": [
    "mi_cadena = \"A quien madruga Dios le ayuda.\"\n",
    "\n",
    "print(mi_cadena[0])\n",
    "print(mi_cadena[1])\n",
    "print(mi_cadena[2])\n",
    "print(mi_cadena[-2])\n",
    "print(mi_cadena[-1])"
   ]
  },
  {
   "cell_type": "markdown",
   "id": "6831c669",
   "metadata": {},
   "source": [
    "---\n",
    "\n",
    "## ⚠️ Si nos pasamos con el índice nos dará error\n",
    "\n",
    "Mira el ejemplo a continuación"
   ]
  },
  {
   "cell_type": "code",
   "execution_count": null,
   "id": "31995ab3",
   "metadata": {},
   "outputs": [],
   "source": [
    "print(mi_cadena[100])"
   ]
  },
  {
   "cell_type": "markdown",
   "id": "1874d33d",
   "metadata": {},
   "source": [
    "---\n",
    "\n",
    "## 🔷 _Slices_\n",
    "\n",
    "También podemos extraer subcadenas enteras a través del operador de _slicing_, para ello usamos los corchetes como antes y escribimos la posición inicial (inclusive) de la subcadena que queremos, dos puntos ':', y la posición final (exclusive) de la subcadena. Si no escribimos una de las posiciones, tomará el comienzo y el final de la cadena respectivamente. Veamos algunos ejemplos:"
   ]
  },
  {
   "cell_type": "code",
   "execution_count": null,
   "id": "2a267e69",
   "metadata": {},
   "outputs": [],
   "source": [
    "mi_cadena = \"No por mucho madrugar amanece más temprano\"\n",
    "\n",
    "print(mi_cadena[0:6])\n",
    "print(mi_cadena[:6])\n",
    "print(mi_cadena[30:-1])\n",
    "print(mi_cadena[30:])\n",
    "print(mi_cadena[-8:])\n",
    "print(mi_cadena[:])"
   ]
  },
  {
   "cell_type": "markdown",
   "id": "8adf7e69",
   "metadata": {},
   "source": [
    "---\n",
    "\n",
    "## ℹ️ Con _slicing_ no da error si nos pasamos con los índices\n",
    "\n",
    "Mira los ejemplos"
   ]
  },
  {
   "cell_type": "code",
   "execution_count": null,
   "id": "4697c29a",
   "metadata": {},
   "outputs": [],
   "source": [
    "print(mi_cadena[30:999])\n",
    "print(mi_cadena[-999:30])"
   ]
  },
  {
   "cell_type": "markdown",
   "id": "94078b11",
   "metadata": {},
   "source": [
    "---\n",
    "\n",
    "## 🔴 Ejercicio\n",
    "\n",
    "Usa el operador de _slicing_ para extraer la extensión de los siguientes nombres de ficheros"
   ]
  },
  {
   "cell_type": "code",
   "execution_count": null,
   "id": "d5385ecc",
   "metadata": {},
   "outputs": [],
   "source": [
    "fichero_1 = \"Foto.jpg\"\n",
    "fichero_2 = \"Video.mp4\"\n",
    "fichero_3 = \"Documento.pdf\"\n",
    "\n",
    "#Escribe tu código a partir de aquí\n"
   ]
  },
  {
   "cell_type": "markdown",
   "id": "385782e0",
   "metadata": {},
   "source": [
    "---\n",
    "\n",
    "## 🔴 Ejercicio\n",
    "\n",
    "Crea una nueva cadena (en una variable), que consista en los 4 primeros caracteres de la cadena a = 'Fenotipo' y los cuatro últimos de la cadena b = 'Prolegómeno'"
   ]
  },
  {
   "cell_type": "code",
   "execution_count": null,
   "id": "49d3a8d8",
   "metadata": {},
   "outputs": [],
   "source": [
    "a = \"Fenotipo\"\n",
    "b = \"Prolegómeno\"\n",
    "\n",
    "# Escribe tu código a partir de aquí\n"
   ]
  },
  {
   "cell_type": "markdown",
   "id": "81f81a9b",
   "metadata": {},
   "source": [
    "---\n",
    "\n",
    "## 🔷 Formateando cadenas\n",
    "\n",
    "El formateo de cadenas consiste en insertar variables dentro de cadenas y darles un formato o apariencia dentro de las mismas.  Existen varias maneras de realizar esto, nosotros vamos a aprender las _f-strings_.\n",
    "\n",
    "Para crear una _f-string_ sólo tenemos que añadir una 'f' previa a las comillas iniciales. En estas cadenas, cada vez que haya un par de llaves {} con una variable en su interior, Python sustituirá en la cadena el valor correspondiente de la variable.\n",
    "\n",
    "Veamos algunos ejemplos:"
   ]
  },
  {
   "cell_type": "code",
   "execution_count": null,
   "id": "d704ccbf",
   "metadata": {},
   "outputs": [],
   "source": [
    "nombre = 'Diana'\n",
    "edad = 40\n",
    "altura = 1.68\n",
    "\n",
    "print(f\"Mi nombre es {nombre}\")\n",
    "print(f\"Tengo {edad} años\")\n",
    "print(f\"Mido {altura}m de altura\")"
   ]
  },
  {
   "cell_type": "markdown",
   "id": "ecbaaf3c",
   "metadata": {},
   "source": [
    "---\n",
    "\n",
    "## 🔴 Ejercicio\n",
    "\n",
    "Crea una variable con tu color favorito, y usa las f-strings para crear una frase con él."
   ]
  },
  {
   "cell_type": "code",
   "execution_count": null,
   "id": "5166f7ff",
   "metadata": {},
   "outputs": [],
   "source": [
    "# Escribe aquí tu código\n"
   ]
  },
  {
   "cell_type": "markdown",
   "id": "28cbaeda",
   "metadata": {},
   "source": [
    "---\n",
    "\n",
    "## 🔷 Encontrando subcadenas dentro de una cadena\n",
    "\n",
    "Podemos buscar subcadenas dentro de una cadena usando la palabra _in_. Si encuentra la subcadena devuelve True, y devuelve False en caso contrario. También podemos usar las palabras _not in_ para ver si no está la subcadena."
   ]
  },
  {
   "cell_type": "code",
   "execution_count": null,
   "id": "89f51bbd",
   "metadata": {},
   "outputs": [],
   "source": [
    "print(\"art\" in \"Earth\")\n",
    "print(\"Yo\" in \"Equipo\")\n",
    "print(\"a\" not in \"Los osos monocolor con los ojos rojos son horrorosos\" )"
   ]
  },
  {
   "cell_type": "markdown",
   "id": "75d585be",
   "metadata": {},
   "source": [
    "---\n",
    "\n",
    "## 🔷 Métodos de las cadenas\n",
    "\n",
    "Los métodos son parecidos a funciones, pero asociados a una variable u objeto concreto de Python. Se usan escribiendo un punto '.' a continuación del identificador de la variable y el nombre concreto del método. Si _x_ es el nombre de nuestra cadena, los métodos son:\n",
    "- _x.lower()_, transforma la cadena en minúsculas\n",
    "- _x.upper()_, transforma la cadena en mayúsculas\n",
    "- _x.count(y)_, cuenta las veces que aparece la subcadena _y_ en la cadena _x_\n",
    "- _x.find(y)_, encuenta la primera aparición de la subcadena _y_ en _x_ y devuelve la posición\n",
    "- _x.find(y, i)_, encuentra la primera aparición de la subcadena _y_ en _x_ a partir de la posición _i_ y devuelve la posición\n",
    "- _x.replace(y,z)_, reemplaza todas las apariciones de la subcadena _y_ en _x_ por la subcadena _z_\n",
    "- _x.split(y)_, divide la cadena _x_ en trozos separados por la subcadena _y_. Devuelve una lista (una lista es una estructura de datos que veremos en el siguiente notebook)\n",
    "\n",
    "Veamos algunos ejemplos:"
   ]
  },
  {
   "cell_type": "code",
   "execution_count": null,
   "id": "59c2564b",
   "metadata": {},
   "outputs": [],
   "source": [
    "mi_cadena = \"Bond. James Bond.\" \n",
    "\n",
    "print(mi_cadena.lower())\n",
    "print(mi_cadena.upper())\n",
    "print(mi_cadena.count(\"Bond\"))\n",
    "print(mi_cadena.find(\"Bond\"))\n",
    "print(mi_cadena.find(\"Bond\",1))\n",
    "print(mi_cadena.replace(\"nd\", \"rt\"))\n",
    "print(mi_cadena.split(\" \"))"
   ]
  },
  {
   "cell_type": "markdown",
   "id": "bf630237",
   "metadata": {},
   "source": [
    "---\n",
    "\n",
    "## 🔴 Ejercicio\n",
    "\n",
    "Cuenta todas las aparciones de la subcadena \"verde\" en la estrofa de Federico García Lorca, sin importar si son mayúsculas o minúsculas, usando los métodos de cadenas de caracteres"
   ]
  },
  {
   "cell_type": "code",
   "execution_count": null,
   "id": "c9cdac48",
   "metadata": {},
   "outputs": [],
   "source": [
    "estrofa = \"Verde que te quiero verde\\nverde viento verdes ramas\\nel barco sobre la mar\\nel caballo en la montaña.\"\n",
    "\n",
    "#Escribe tu código a partir de aquí:"
   ]
  }
 ],
 "metadata": {
  "kernelspec": {
   "display_name": "Python 3 (ipykernel)",
   "language": "python",
   "name": "python3"
  },
  "language_info": {
   "codemirror_mode": {
    "name": "ipython",
    "version": 3
   },
   "file_extension": ".py",
   "mimetype": "text/x-python",
   "name": "python",
   "nbconvert_exporter": "python",
   "pygments_lexer": "ipython3",
   "version": "3.9.12"
  }
 },
 "nbformat": 4,
 "nbformat_minor": 5
}

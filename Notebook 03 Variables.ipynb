{
 "cells": [
  {
   "cell_type": "markdown",
   "id": "324be08f",
   "metadata": {},
   "source": [
    "# Notebook 3: Variables\n",
    "\n",
    "Las variables son entidades compuestas por un espacio en memoria y un identificador. Sirven para guardar datos y poder usarlos después en nuestro programa. Para crear una variable basta con darle un nombre, escribir el símbolo igual =, y a continuación el valor que va a tener."
   ]
  },
  {
   "cell_type": "code",
   "execution_count": null,
   "id": "5ad72761",
   "metadata": {},
   "outputs": [],
   "source": [
    "# Creamos una variable llamada 'x' y le asignamos el valor 2\n",
    "x = 2\n",
    "print(x)"
   ]
  },
  {
   "cell_type": "markdown",
   "id": "63d40d78",
   "metadata": {},
   "source": [
    "---\n",
    "\n",
    "## 🔷 Identificadores\n",
    "\n",
    "El identificador o nombre puede estar compuesto de:\n",
    "- Letras mayúsculas y minúsculas (ojo, son diferentes)\n",
    "- El guión bajo '_'\n",
    "- Y números del 0 al 9, salvo en la primera posición\n",
    "\n"
   ]
  },
  {
   "cell_type": "code",
   "execution_count": null,
   "id": "7e414724",
   "metadata": {},
   "outputs": [],
   "source": [
    "# Estos son nombre válidos de variables\n",
    "\n",
    "Variable_1 = 1\n",
    "vARIable_2 = 2\n",
    "_variable3 = 3\n",
    "\n",
    "print(Variable_1, vARIable_2, _variable3)"
   ]
  },
  {
   "cell_type": "markdown",
   "id": "97b0087e",
   "metadata": {},
   "source": [
    "---\n",
    "\n",
    "## ⚠️ Identificadores no válidos\n",
    "\n",
    "No podemos empezar una variable usando un número\n",
    "\n",
    "Además, el nombre no puede ser igual que algunas palabras reservadas por el sistema como : \n",
    ">and, as, assert, break, class, continue, def, del, elif, else, except, False, finally, for, from, global, if, import, in, is, lambda, None, nonlocal, not, or, pass, raise, return, True, try, while, with, yield"
   ]
  },
  {
   "cell_type": "code",
   "execution_count": null,
   "id": "8b204255",
   "metadata": {},
   "outputs": [],
   "source": [
    "# Este no es un nombre válido\n",
    "\n",
    "4_variable = 4\n",
    "\n",
    "print(4_variable)"
   ]
  },
  {
   "cell_type": "code",
   "execution_count": null,
   "id": "24e45446",
   "metadata": {},
   "outputs": [],
   "source": [
    "# Esto tampoco es un nombre válido\n",
    "\n",
    "True = 4"
   ]
  },
  {
   "cell_type": "markdown",
   "id": "1695a35e",
   "metadata": {},
   "source": [
    "---\n",
    "\n",
    "## 🔷 Modificando los valores de una variable\n",
    "\n",
    "El valor de una variable puede cambiar a lo largo de al ejecución del programa"
   ]
  },
  {
   "cell_type": "code",
   "execution_count": null,
   "id": "e77a457a",
   "metadata": {},
   "outputs": [],
   "source": [
    "# Creamos una variable 'x' y le asignamos el valor 1\n",
    "x= 1\n",
    "print(x)\n",
    "\n",
    "# Y luego, cambiamos este valor a 2\n",
    "x = 2\n",
    "print(x)"
   ]
  },
  {
   "cell_type": "code",
   "execution_count": null,
   "id": "539ac677",
   "metadata": {},
   "outputs": [],
   "source": [
    "# Las variables se conservan entre celdas\n",
    "\n",
    "print(x)"
   ]
  },
  {
   "cell_type": "code",
   "execution_count": null,
   "id": "bfb447fb",
   "metadata": {},
   "outputs": [],
   "source": [
    "# Prueba a ejecutar varias veces esta celda a ver que pasa\n",
    "\n",
    "x = x+1\n",
    "print(x)"
   ]
  },
  {
   "cell_type": "code",
   "execution_count": null,
   "id": "cef7825c",
   "metadata": {},
   "outputs": [],
   "source": [
    "# Puedo crear nuevas variables usando valores de las antiguas\n",
    "\n",
    "y = x\n",
    "z = x**2\n",
    "print(y, z)"
   ]
  },
  {
   "cell_type": "markdown",
   "id": "af2665b7",
   "metadata": {},
   "source": [
    "---\n",
    "\n",
    "## 🔷 Modificando el tipo de una variable\n",
    "\n",
    "El tipo de la variable también puede cambiar al asignarle el dato correspondiente. Esto es una característica propia de Python (en otros lenguajes esto resultaría en un error)."
   ]
  },
  {
   "cell_type": "code",
   "execution_count": null,
   "id": "08c9ca35",
   "metadata": {},
   "outputs": [],
   "source": [
    "# Creamos una variable 'x' con un int\n",
    "x= 1\n",
    "print(x, type(x))\n",
    "\n",
    "# La dividimos entre 5, y se transforma en float\n",
    "x = x/5\n",
    "print(x, type(x))\n",
    "\n",
    "# Y ahora le asignamos una cadena de caracteres y se transforma en str\n",
    "x = \"En un lugar de la Mancha ...\"\n",
    "print(x, type(x))"
   ]
  },
  {
   "cell_type": "markdown",
   "id": "9c59bc05",
   "metadata": {},
   "source": [
    "---\n",
    "\n",
    "## 🔴 Ejercicio\n",
    "\n",
    "He corrido una maratón de 42.195 kilómetros en 3:54:25 y quiero conocer mi velocidad media en m/s.\n",
    "\n",
    "Crea 5 variables \"horas\", \"minutos\", \"segundos\", \"tiempo_total\", y \"distancia_total\". Asigna los valores de mi tiempo a las variables \"horas\", \"minutos\" y \"segundos\". Asigna el tiempo que he tardado en segundos a \"tiempo_total\" utilizando las variables anteriores. Asigna la distancia en metros a \"distancia_total\". Imprime por pantalla la división de \"distancia_total\" entre \"tiempo_total\"\n",
    "\n"
   ]
  },
  {
   "cell_type": "code",
   "execution_count": null,
   "id": "04b91760",
   "metadata": {},
   "outputs": [],
   "source": [
    "# Escribe tu código aquí\n"
   ]
  }
 ],
 "metadata": {
  "kernelspec": {
   "display_name": "Python 3 (ipykernel)",
   "language": "python",
   "name": "python3"
  },
  "language_info": {
   "codemirror_mode": {
    "name": "ipython",
    "version": 3
   },
   "file_extension": ".py",
   "mimetype": "text/x-python",
   "name": "python",
   "nbconvert_exporter": "python",
   "pygments_lexer": "ipython3",
   "version": "3.9.12"
  }
 },
 "nbformat": 4,
 "nbformat_minor": 5
}

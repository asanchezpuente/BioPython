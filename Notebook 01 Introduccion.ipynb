{
 "cells": [
  {
   "cell_type": "markdown",
   "id": "86d9a89f",
   "metadata": {},
   "source": [
    "# Notebook 1: Introducción\n",
    "\n",
    "¡Hola, bienvenida/o a la asignatura de Python del Máster en Bioinformática y Genómica Computacional! Cada semana usaremos un \"notebook\" como éste para presentar los conceptos teóricos y prácticos a tratar durante las sesiones. Es imposible aprender a programar sin practicar, así que es muy importante que sigas las clases con estos notebooks abiertos.\n",
    "\n",
    "Para empezar, haz click en la siguiente celda (el rectángulo con código que ves más abajo), y pulsa la combinación _Mayús_ + _Enter_ para ejecutarla. También puedes usar el botón \"▶ Run\" que ves más arriba en la interfaz."
   ]
  },
  {
   "cell_type": "code",
   "execution_count": null,
   "id": "9a11cddf",
   "metadata": {},
   "outputs": [],
   "source": [
    "print(\"¡Hola mundo!\")"
   ]
  },
  {
   "cell_type": "markdown",
   "id": "6c88642d",
   "metadata": {},
   "source": [
    "---\n",
    "\n",
    "Acabas de ejecutar tu primer trozo de código de Python. Es un código que sencillamente imprime por pantalla la frase \"¡Hola mundo!\". Como ves, la salida se muesta a continuación del código que acabas de ejecutar.\n",
    "\n",
    "## 🔷 Orden de ejecución\n",
    "\n",
    "Una celda puede constar de varias líneas de código, que se ejecutan secuencialmente de arriba a abajo. Prueba a ejecutar la siguiente celda (haz click sobre ella y pulsa _Mayús_ + _Enter_)"
   ]
  },
  {
   "cell_type": "code",
   "execution_count": null,
   "id": "f104cde5",
   "metadata": {},
   "outputs": [],
   "source": [
    "print(\"Esta línea se ejecuta primero\")\n",
    "print(\"Esta línea se ejecuta después\")"
   ]
  },
  {
   "cell_type": "markdown",
   "id": "6f974e5d",
   "metadata": {},
   "source": [
    "---\n",
    "\n",
    "## 🔷 Comentarios\n",
    "\n",
    "En el código de un programa Python también podemos escribir líneas que no se ejecutan, cuya función normalmente es añadir una explicación al código que acompañan, para que en un futuro sea más sencillo entender que hace ese trozo de código. Para comenzar un comentario se utiliza el carácter almohadilla #, y todo lo que viene a continuación en la misma línea no se ejecuta."
   ]
  },
  {
   "cell_type": "code",
   "execution_count": null,
   "id": "4ad62e59",
   "metadata": {},
   "outputs": [],
   "source": [
    "# Una línea que empieza por una almohadilla es un comentario y no se ejecuta\n",
    "# print(\"Esta línea no se ejecuta\")\n",
    "\n",
    "print(\"Esta línea sí se ejecuta\") #Esto también es un comentario"
   ]
  },
  {
   "cell_type": "markdown",
   "id": "3d7a0a61",
   "metadata": {},
   "source": [
    "---\n",
    "\n",
    "También puedes escribir comentarios multilínea usando tres comillas simples ''' o dobles \"\"\""
   ]
  },
  {
   "cell_type": "code",
   "execution_count": null,
   "id": "2c80c459",
   "metadata": {},
   "outputs": [],
   "source": [
    "'''\n",
    "También puedes abrir tres comillas para escribir comentarios\n",
    "Estos comentarios pueden ocupar varias líneas\n",
    "\n",
    "print(\"Esta línea tampoco se ejecuta\")\n",
    "\n",
    "Pero hay que cerrarlos usando tres comillas otra vez\n",
    "'''\n",
    "\n",
    "print(\"Esta línea está fuera del comentario y sí se ejecuta\")"
   ]
  },
  {
   "cell_type": "markdown",
   "id": "80ed2746",
   "metadata": {},
   "source": [
    "---\n",
    "\n",
    "## ⚠️ Errores\n",
    "\n",
    "Si existe un error en la sintaxis (el código no está bien escrito) o en la ejecución (le pedimos al programa algo que no tiene sentido, como dividir por cero), Python nos devuelve como salida un error, mostrando en que línea se ha producido. Ejecuta la siguiente celda y mira que pasa."
   ]
  },
  {
   "cell_type": "code",
   "execution_count": null,
   "id": "0a47a07b",
   "metadata": {},
   "outputs": [],
   "source": [
    "print(\"Estoy mal escrito)"
   ]
  },
  {
   "cell_type": "markdown",
   "id": "9b5e4392",
   "metadata": {},
   "source": [
    "---\n",
    "\n",
    "## 🔴 Ejercicio\n",
    "Ejecuta esta celda, lee el código de error que da, corrige el código para que no de error, y vuelve a ejecutar la celda."
   ]
  },
  {
   "cell_type": "code",
   "execution_count": null,
   "id": "2c421372",
   "metadata": {},
   "outputs": [],
   "source": [
    "print(\"¡Corrígeme\""
   ]
  },
  {
   "cell_type": "markdown",
   "id": "68f0c561",
   "metadata": {},
   "source": [
    "---\n",
    "\n",
    "## ℹ️ Información adicional sobre los Notebooks de Jupyter\n",
    "\n",
    "- Los notebooks se autoguardan según haces cambios. El símbolo de guardado que ves en la interfaz crea un _checkpoint_ que luego puedes cargar en File -> Revert to checkpoint, si quieres volver al estado que te encontrabas antes.\n",
    "- Si en algún momento quieres resetear el notebook para que esté como si no se hubiera ejecutado nada de código, puedes pinchar en Kernel -> Restart & Clear Output\n",
    "- El nombre del fichero en el que estás trabajando se muestra arriba, puedes pinchar sobre él para cambiarle el nombre.\n",
    "- Si quieres crear una celda de código a continuación de la que estás trabajando, pulsa el símbolo __+__ que verás más arriba\n",
    "- Como ves, a lo largo de este notebook hay texto formateado con el que he ido mostrando las explicaciones. Arriba tienes un desplegable que te permite elegir las opciones \"Code\" y \"Markdown\". La primera opción indica que la celda va a contener código de Python, pero si seleccionas la opción Markdown, la celda va a contener texto formateado. Para editar una celda de texto, haz doble click sobre ella, y para confirmar los cambios y que se muestre, presiona _Mayús_ + _Enter_. No es necesario conocerlo, pero si tienes curiosidad, puedes ver una pequeña referencia sobre el lenguaje Markdown en https://www.markdownguide.org/cheat-sheet/ "
   ]
  },
  {
   "cell_type": "code",
   "execution_count": null,
   "id": "622e586c",
   "metadata": {},
   "outputs": [],
   "source": []
  }
 ],
 "metadata": {
  "kernelspec": {
   "display_name": "Python 3 (ipykernel)",
   "language": "python",
   "name": "python3"
  },
  "language_info": {
   "codemirror_mode": {
    "name": "ipython",
    "version": 3
   },
   "file_extension": ".py",
   "mimetype": "text/x-python",
   "name": "python",
   "nbconvert_exporter": "python",
   "pygments_lexer": "ipython3",
   "version": "3.9.12"
  }
 },
 "nbformat": 4,
 "nbformat_minor": 5
}

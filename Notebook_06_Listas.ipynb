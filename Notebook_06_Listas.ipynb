{
 "cells": [
  {
   "cell_type": "markdown",
   "id": "f100cbb7",
   "metadata": {},
   "source": [
    "# Notebook 6: Listas\n",
    "\n",
    "En este notebook vamos a estudiar las listas, que es una estructura de datos consistente en un conjunto ordenado de elementos.  Estos elementos pueden ser cualquier objeto de python: números enteros, reales, cadenas de caracteres, variables, e incluso otras listas. Además podemos mezclar diferentes tipos de elemento en una misma lista.\n",
    "\n",
    "Las listas se declaran usando corchetes, y separando los diferentes elementos por comas. Veamos algunos ejemplos"
   ]
  },
  {
   "cell_type": "code",
   "execution_count": null,
   "id": "a4496d38",
   "metadata": {},
   "outputs": [],
   "source": [
    "#Una lista que almacena cadenas\n",
    "lista_1 = ['cafe', 'te', 'zumo', 'whisky', 'agua']\n",
    "#Una lista que almacena enteros\n",
    "lista_2 = [5, 2, 3, 1, 0]\n",
    "#Esto también es válido\n",
    "lista_3 = ['cafe', 'agua', 0, 5]\n",
    "#Incluso esto también lo es\n",
    "lista_4 = [1,4, lista_1]\n",
    "\n",
    "print(lista_1)\n",
    "print(lista_2)\n",
    "print(lista_3)\n",
    "print(lista_4)"
   ]
  },
  {
   "cell_type": "markdown",
   "id": "17e26b1e",
   "metadata": {},
   "source": [
    "---\n",
    "\n",
    "##  🔷 Accediendo a los elementos de una lista\n",
    "\n",
    "Las listas se parecen bastante a las cadenas en cómo se accede a sus elementos. Podemos utilizar los corchetes para acceder a un elemento individual, o _slices_ para obtener una sublista con los elementos comprendidos entre dos posiciones. Veamos algunos ejemplos:"
   ]
  },
  {
   "cell_type": "code",
   "execution_count": null,
   "id": "0212fc21",
   "metadata": {},
   "outputs": [],
   "source": [
    "print(lista_1[0])\n",
    "print(lista_1[-1])\n",
    "print(lista_2[1:4])"
   ]
  },
  {
   "cell_type": "markdown",
   "id": "89cb6338",
   "metadata": {},
   "source": [
    "---\n",
    "\n",
    "##  🔷 Longitud de una lista\n",
    "\n",
    "Al igual que con las cadenas, la función len() nos devuelve la longitud de una lista"
   ]
  },
  {
   "cell_type": "code",
   "execution_count": null,
   "id": "55f940c8",
   "metadata": {},
   "outputs": [],
   "source": [
    "mi_lista = [\"manzanas\", \"naranjas\", \"peras\", \"uvas\"]\n",
    "print(len(mi_lista))"
   ]
  },
  {
   "cell_type": "markdown",
   "id": "7b73f77f",
   "metadata": {},
   "source": [
    "---\n",
    "\n",
    "## 🔴 Ejercicio\n",
    "Utiliza la función len para imprimir el elemento central de la lista que te damos"
   ]
  },
  {
   "cell_type": "code",
   "execution_count": null,
   "id": "b99ab199",
   "metadata": {},
   "outputs": [],
   "source": [
    "mi_lista = ['a','e','i','o','u']\n",
    "\n",
    "#Escribe tu código a partir de aquí"
   ]
  },
  {
   "cell_type": "markdown",
   "id": "e30db422",
   "metadata": {},
   "source": [
    "---\n",
    "\n",
    "##  🔷 Modificando los elementos de una lista\n",
    "\n",
    "Podemos modificar un elemento de una lista, indicando la posición del elemento que queremos modificar o un slice. Veamos unos ejemplos:"
   ]
  },
  {
   "cell_type": "code",
   "execution_count": null,
   "id": "8a38ea9d",
   "metadata": {},
   "outputs": [],
   "source": [
    "mi_lista = ['a','b','c','d','e','f','g','h','i']\n",
    "\n",
    "print(mi_lista)\n",
    "\n",
    "mi_lista[1] = \"Periquito\"\n",
    "\n",
    "mi_lista[5:8] = [2,3,4]\n",
    "\n",
    "print(mi_lista)"
   ]
  },
  {
   "cell_type": "markdown",
   "id": "b1cd4952",
   "metadata": {},
   "source": [
    "---\n",
    "\n",
    "## ⚠️ ¿Puedo hacer esto con cadenas?\n",
    "\n",
    "Las cadenas son inmutables en Python y no se pueden modificar, aunque sí que es posible reasignar la variable a una cadena nueva."
   ]
  },
  {
   "cell_type": "code",
   "execution_count": null,
   "id": "69525e4b",
   "metadata": {},
   "outputs": [],
   "source": [
    "mi_cadena = \"cadera\"\n",
    "\n",
    "# El método replace no modifica la cadena original\n",
    "print(mi_cadena.replace('r','n'))\n",
    "print(mi_cadena)\n",
    "\n",
    "# Esto sí que se puede hacer\n",
    "mi_cadena = mi_cadena.replace('r','n')\n",
    "print(mi_cadena)\n",
    "\n",
    "# Esto no se puede hacer\n",
    "mi_cadena[4] = 'n'\n",
    "print(mi_cadena)"
   ]
  },
  {
   "cell_type": "markdown",
   "id": "ba53a521",
   "metadata": {},
   "source": [
    "---\n",
    "\n",
    "##  🔷 Añadiendo elementos\n",
    "Para añadir elementos a una lista podemos usar el método **list.append()** o **list.insert(index, obj)**. El primero agrega el elemento al final de la lista. El segundo agrega el elemento en la posición indicada. Estos métodos modifican directamente la lista."
   ]
  },
  {
   "cell_type": "code",
   "execution_count": null,
   "id": "dd55ba6b",
   "metadata": {},
   "outputs": [],
   "source": [
    "mi_lista = [\"rojo\",\"amarillo\",\"verde\",\"azul\",\"añil\"]\n",
    "\n",
    "mi_lista.append(\"violeta\")\n",
    "\n",
    "print(mi_lista)\n",
    "\n",
    "mi_lista.insert(1, \"naranja\")\n",
    "\n",
    "print(mi_lista)"
   ]
  },
  {
   "cell_type": "markdown",
   "id": "6145671b",
   "metadata": {},
   "source": [
    "---\n",
    "\n",
    "##  🔷 Quitando elementos\n",
    "Para quitar elementos de una lista podemos usar el método **list.pop(index)** o **list.remove(obj)**. El primero elimina el elemento en la posición indicada por el índice y nos devuelve ese elemento. Si no indicamos el índice, elimina el último elemento. El segundo elimina el elemento dado y no devuelve nada (\"_None_\")), si hubiera varios elementos iguales, elimina el primero de ellos. Estos métodos modifican directamente la lista."
   ]
  },
  {
   "cell_type": "code",
   "execution_count": null,
   "id": "05f2ea9d",
   "metadata": {},
   "outputs": [],
   "source": [
    "planetas = [\"Mercurio\", \"Venus\", \"La Tierra\", \"Marte\",\"Jupiter\",\"Saturno\",\"Urano\", \"Neptuno\", \"Plutón\"]\n",
    "\n",
    "print(planetas.pop())\n",
    "print(planetas)\n",
    "\n",
    "print(planetas.pop(2))\n",
    "print(planetas)\n",
    "\n",
    "print(planetas.remove(\"Marte\"))\n",
    "print(planetas)"
   ]
  },
  {
   "cell_type": "markdown",
   "id": "9a00c175",
   "metadata": {},
   "source": [
    "---\n",
    "\n",
    "## ⚠️ Quitando un elemento que no existe\n",
    "\n",
    "Si intentamos quitar un elemento que no está en la lista con remove, obtendremos un error"
   ]
  },
  {
   "cell_type": "code",
   "execution_count": null,
   "id": "c5ef1dd4",
   "metadata": {},
   "outputs": [],
   "source": [
    "planetas.remove('Eris')\n",
    "print(planetas)"
   ]
  },
  {
   "cell_type": "markdown",
   "id": "a21ffedd",
   "metadata": {},
   "source": [
    "---\n",
    "\n",
    "##  🔷 Operaciones sobre listas\n",
    "\n",
    "Al igual que con las cadenas, podemos utilizar la operación suma para conatenar cadenas, y la multiplicación por enteros para repetir una cadena múltiples veces."
   ]
  },
  {
   "cell_type": "code",
   "execution_count": null,
   "id": "eda28604",
   "metadata": {},
   "outputs": [],
   "source": [
    "lista_1 = [1,2]\n",
    "lista_2 = [3,4]\n",
    "\n",
    "print(lista_1+lista_2)\n",
    "print(10*lista_1)"
   ]
  },
  {
   "cell_type": "markdown",
   "id": "285d4c71",
   "metadata": {},
   "source": [
    "---\n",
    "\n",
    "##  🔷 Ordenar una lista\n",
    "\n",
    "Podemos ordenar una lista con el método list.sort(). Podemos escribir el parámetro \"reverse = True\" para que reordene de manera inversa"
   ]
  },
  {
   "cell_type": "code",
   "execution_count": null,
   "id": "5b7829ef",
   "metadata": {},
   "outputs": [],
   "source": [
    "lista_1 = [\"Carlos\", \"Diana\", \"Alicia\", \"Benito\", \"Elena\"]\n",
    "lista_2 = [17,5,2,7,11,13,3]\n",
    "\n",
    "lista_1.sort()\n",
    "print(lista_1)\n",
    "\n",
    "lista_2.sort()\n",
    "print(lista_2)\n",
    "\n",
    "lista_2.sort(reverse = True)\n",
    "print(lista_2)\n",
    "\n"
   ]
  },
  {
   "cell_type": "markdown",
   "id": "32e230af",
   "metadata": {},
   "source": [
    "---\n",
    "\n",
    "## ⚠️ Ordenando una lista con diferentes tipos\n",
    "\n",
    "No podemos ordenar una lista que contenga cadenas de caracteres y tipos numéricos"
   ]
  },
  {
   "cell_type": "code",
   "execution_count": null,
   "id": "f6668645",
   "metadata": {},
   "outputs": [],
   "source": [
    "lista_1 = [\"1\", 2, 3, \"4\", 5]\n",
    "lista_1.sort()"
   ]
  },
  {
   "cell_type": "markdown",
   "id": "ff8e41c4",
   "metadata": {},
   "source": [
    "---\n",
    "\n",
    "## 🔴 Ejercicio\n",
    "Imprime por pantalla una lista con las palabras de este texto ordenadas alfabéticamente."
   ]
  },
  {
   "cell_type": "code",
   "execution_count": null,
   "id": "ebb6fbaa",
   "metadata": {},
   "outputs": [],
   "source": [
    "texto = \"He oído que la noche es toda magia y que un duende te invita a soñar\"\n",
    "\n",
    "# Escribe tu código a partir de aquí."
   ]
  },
  {
   "cell_type": "markdown",
   "id": "ac9258b7",
   "metadata": {},
   "source": [
    "---\n",
    "\n",
    "## ℹ️ Tuplas\n",
    "\n",
    "Las tuplas funcionan igual que las listas con la excepción de que son inmutables. Así que van a soportar las mismas operaciones que las listas anteriormente presentadas salvo por la modificación de elementos. \n",
    "\n",
    "La sintaxis también cambia ligeramente: Se usan paréntesis.\n",
    "\n",
    "La regla para usar las tuplas es que se usan siempre que sepas que dicha secuencia no se va a modificar."
   ]
  },
  {
   "cell_type": "code",
   "execution_count": null,
   "id": "43140a00",
   "metadata": {},
   "outputs": [],
   "source": [
    "tupla_1 = ('lunes', 'martes', 'miercoles', 'jueves', 'viernes', 'sábado', 'domingo')\n",
    "\n",
    "print(tupla_1[0])\n",
    "print(tupla_1[5:])\n",
    "\n",
    "# También es posible omitir los paréntesis si eso no diera lugar a confusión\n",
    "\n",
    "tupla_2 = 'enero', 'febrero', 'marzo'\n",
    "\n",
    "print(tupla_2)\n",
    "\n",
    "#Las tuplas de un solo elemento se declaran asi:\n",
    "tupla_3 = (50,)\n",
    "\n",
    "print(tupla_3)"
   ]
  },
  {
   "cell_type": "code",
   "execution_count": null,
   "id": "1706db61",
   "metadata": {},
   "outputs": [],
   "source": []
  }
 ],
 "metadata": {
  "kernelspec": {
   "display_name": "Python 3 (ipykernel)",
   "language": "python",
   "name": "python3"
  },
  "language_info": {
   "codemirror_mode": {
    "name": "ipython",
    "version": 3
   },
   "file_extension": ".py",
   "mimetype": "text/x-python",
   "name": "python",
   "nbconvert_exporter": "python",
   "pygments_lexer": "ipython3",
   "version": "3.9.12"
  }
 },
 "nbformat": 4,
 "nbformat_minor": 5
}
